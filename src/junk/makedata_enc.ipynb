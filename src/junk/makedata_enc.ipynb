{
 "cells": [
  {
   "cell_type": "code",
   "execution_count": 1,
   "metadata": {},
   "outputs": [],
   "source": [
    "import pandas as pd"
   ]
  },
  {
   "cell_type": "code",
   "execution_count": 2,
   "metadata": {},
   "outputs": [
    {
     "data": {
      "text/plain": [
       "'d:\\\\ADAPET\\\\src\\\\junk'"
      ]
     },
     "execution_count": 2,
     "metadata": {},
     "output_type": "execute_result"
    }
   ],
   "source": [
    "pwd"
   ]
  },
  {
   "cell_type": "code",
   "execution_count": 3,
   "metadata": {},
   "outputs": [],
   "source": [
    "splits = [\"train\", \"dev\", \"test_alpha1\", \"test_alpha2\", \"test_alpha3\"]\n",
    "for sp in splits:\n",
    "    df = pd.read_csv(f\"../data/infotabs/drr/{sp}.tsv\", delimiter=\"\\t\")\n",
    "    # df.to_csv(f\"data/{sp}.tsv\", index=False)\n",
    "    df[\"label\"] = df[\"label\"].map({0: 2, 1: 1, 2: 0})\n",
    "    df.to_csv(f\"../data/infotabs/drr_enc/{sp}.tsv\", sep=\"\\t\",index=False)"
   ]
  },
  {
   "cell_type": "code",
   "execution_count": 12,
   "metadata": {},
   "outputs": [
    {
     "data": {
      "text/html": [
       "<div>\n",
       "<style scoped>\n",
       "    .dataframe tbody tr th:only-of-type {\n",
       "        vertical-align: middle;\n",
       "    }\n",
       "\n",
       "    .dataframe tbody tr th {\n",
       "        vertical-align: top;\n",
       "    }\n",
       "\n",
       "    .dataframe thead th {\n",
       "        text-align: right;\n",
       "    }\n",
       "</style>\n",
       "<table border=\"1\" class=\"dataframe\">\n",
       "  <thead>\n",
       "    <tr style=\"text-align: right;\">\n",
       "      <th></th>\n",
       "      <th>index</th>\n",
       "      <th>table_id</th>\n",
       "      <th>annotator_id</th>\n",
       "      <th>premise</th>\n",
       "      <th>hypothesis</th>\n",
       "      <th>label</th>\n",
       "    </tr>\n",
       "  </thead>\n",
       "  <tbody>\n",
       "    <tr>\n",
       "      <th>0</th>\n",
       "      <td>0</td>\n",
       "      <td>T2045</td>\n",
       "      <td>GW74</td>\n",
       "      <td>The passengers of 1950 British Columbia B-3...</td>\n",
       "      <td>Most of the survivors were crew.</td>\n",
       "      <td>2</td>\n",
       "    </tr>\n",
       "    <tr>\n",
       "      <th>1</th>\n",
       "      <td>1</td>\n",
       "      <td>T2045</td>\n",
       "      <td>GW74</td>\n",
       "      <td>The passengers of 1950 British Columbia B-3...</td>\n",
       "      <td>The five fatalities included 1 passenger</td>\n",
       "      <td>1</td>\n",
       "    </tr>\n",
       "    <tr>\n",
       "      <th>2</th>\n",
       "      <td>2</td>\n",
       "      <td>T2045</td>\n",
       "      <td>GW74</td>\n",
       "      <td>The passengers of 1950 British Columbia B-3...</td>\n",
       "      <td>There were more survivors than there were crew.</td>\n",
       "      <td>0</td>\n",
       "    </tr>\n",
       "    <tr>\n",
       "      <th>3</th>\n",
       "      <td>3</td>\n",
       "      <td>T2045</td>\n",
       "      <td>GW52</td>\n",
       "      <td>The passengers of 1950 British Columbia B-3...</td>\n",
       "      <td>Most of the 1950 British Columbia B-36 crash v...</td>\n",
       "      <td>2</td>\n",
       "    </tr>\n",
       "    <tr>\n",
       "      <th>4</th>\n",
       "      <td>4</td>\n",
       "      <td>T2045</td>\n",
       "      <td>GW52</td>\n",
       "      <td>The summary of 1950 British Columbia B-36 c...</td>\n",
       "      <td>The 1950 British Coluimbia B-36 crash report e...</td>\n",
       "      <td>1</td>\n",
       "    </tr>\n",
       "  </tbody>\n",
       "</table>\n",
       "</div>"
      ],
      "text/plain": [
       "   index table_id annotator_id  \\\n",
       "0      0    T2045         GW74   \n",
       "1      1    T2045         GW74   \n",
       "2      2    T2045         GW74   \n",
       "3      3    T2045         GW52   \n",
       "4      4    T2045         GW52   \n",
       "\n",
       "                                             premise  \\\n",
       "0     The passengers of 1950 British Columbia B-3...   \n",
       "1     The passengers of 1950 British Columbia B-3...   \n",
       "2     The passengers of 1950 British Columbia B-3...   \n",
       "3     The passengers of 1950 British Columbia B-3...   \n",
       "4     The summary of 1950 British Columbia B-36 c...   \n",
       "\n",
       "                                          hypothesis  label  \n",
       "0                   Most of the survivors were crew.      2  \n",
       "1           The five fatalities included 1 passenger      1  \n",
       "2    There were more survivors than there were crew.      0  \n",
       "3  Most of the 1950 British Columbia B-36 crash v...      2  \n",
       "4  The 1950 British Coluimbia B-36 crash report e...      1  "
      ]
     },
     "execution_count": 12,
     "metadata": {},
     "output_type": "execute_result"
    }
   ],
   "source": [
    "pd.read_csv(f\"../data/infotabs/drr/{sp}.tsv\", delimiter=\"\\t\").head()"
   ]
  },
  {
   "cell_type": "code",
   "execution_count": 11,
   "metadata": {},
   "outputs": [
    {
     "data": {
      "text/html": [
       "<div>\n",
       "<style scoped>\n",
       "    .dataframe tbody tr th:only-of-type {\n",
       "        vertical-align: middle;\n",
       "    }\n",
       "\n",
       "    .dataframe tbody tr th {\n",
       "        vertical-align: top;\n",
       "    }\n",
       "\n",
       "    .dataframe thead th {\n",
       "        text-align: right;\n",
       "    }\n",
       "</style>\n",
       "<table border=\"1\" class=\"dataframe\">\n",
       "  <thead>\n",
       "    <tr style=\"text-align: right;\">\n",
       "      <th></th>\n",
       "      <th>index</th>\n",
       "      <th>table_id</th>\n",
       "      <th>annotator_id</th>\n",
       "      <th>premise</th>\n",
       "      <th>hypothesis</th>\n",
       "      <th>label</th>\n",
       "    </tr>\n",
       "  </thead>\n",
       "  <tbody>\n",
       "    <tr>\n",
       "      <th>0</th>\n",
       "      <td>0</td>\n",
       "      <td>T2045</td>\n",
       "      <td>GW74</td>\n",
       "      <td>The passengers of 1950 British Columbia B-3...</td>\n",
       "      <td>Most of the survivors were crew.</td>\n",
       "      <td>0</td>\n",
       "    </tr>\n",
       "    <tr>\n",
       "      <th>1</th>\n",
       "      <td>1</td>\n",
       "      <td>T2045</td>\n",
       "      <td>GW74</td>\n",
       "      <td>The passengers of 1950 British Columbia B-3...</td>\n",
       "      <td>The five fatalities included 1 passenger</td>\n",
       "      <td>1</td>\n",
       "    </tr>\n",
       "    <tr>\n",
       "      <th>2</th>\n",
       "      <td>2</td>\n",
       "      <td>T2045</td>\n",
       "      <td>GW74</td>\n",
       "      <td>The passengers of 1950 British Columbia B-3...</td>\n",
       "      <td>There were more survivors than there were crew.</td>\n",
       "      <td>2</td>\n",
       "    </tr>\n",
       "    <tr>\n",
       "      <th>3</th>\n",
       "      <td>3</td>\n",
       "      <td>T2045</td>\n",
       "      <td>GW52</td>\n",
       "      <td>The passengers of 1950 British Columbia B-3...</td>\n",
       "      <td>Most of the 1950 British Columbia B-36 crash v...</td>\n",
       "      <td>0</td>\n",
       "    </tr>\n",
       "    <tr>\n",
       "      <th>4</th>\n",
       "      <td>4</td>\n",
       "      <td>T2045</td>\n",
       "      <td>GW52</td>\n",
       "      <td>The summary of 1950 British Columbia B-36 c...</td>\n",
       "      <td>The 1950 British Coluimbia B-36 crash report e...</td>\n",
       "      <td>1</td>\n",
       "    </tr>\n",
       "  </tbody>\n",
       "</table>\n",
       "</div>"
      ],
      "text/plain": [
       "   index table_id annotator_id  \\\n",
       "0      0    T2045         GW74   \n",
       "1      1    T2045         GW74   \n",
       "2      2    T2045         GW74   \n",
       "3      3    T2045         GW52   \n",
       "4      4    T2045         GW52   \n",
       "\n",
       "                                             premise  \\\n",
       "0     The passengers of 1950 British Columbia B-3...   \n",
       "1     The passengers of 1950 British Columbia B-3...   \n",
       "2     The passengers of 1950 British Columbia B-3...   \n",
       "3     The passengers of 1950 British Columbia B-3...   \n",
       "4     The summary of 1950 British Columbia B-36 c...   \n",
       "\n",
       "                                          hypothesis  label  \n",
       "0                   Most of the survivors were crew.      0  \n",
       "1           The five fatalities included 1 passenger      1  \n",
       "2    There were more survivors than there were crew.      2  \n",
       "3  Most of the 1950 British Columbia B-36 crash v...      0  \n",
       "4  The 1950 British Coluimbia B-36 crash report e...      1  "
      ]
     },
     "execution_count": 11,
     "metadata": {},
     "output_type": "execute_result"
    }
   ],
   "source": [
    "pd.read_csv(f\"../data/infotabs/drr_enc/{sp}.tsv\", delimiter=\"\\t\").head()"
   ]
  },
  {
   "cell_type": "code",
   "execution_count": 9,
   "metadata": {},
   "outputs": [
    {
     "data": {
      "text/plain": [
       "'   The passengers of 1950 British Columbia B-36 crash is 1.  The crew of 1950 British Columbia B-36 crash is 16.  The survivors of 1950 British Columbia B-36 crash is 12.   The aircraft type of 1950 British Columbia B-36 crash is Convair B-36B.   '"
      ]
     },
     "execution_count": 9,
     "metadata": {},
     "output_type": "execute_result"
    }
   ],
   "source": [
    "pd.read_csv(f\"../data/infotabs/drr_enc/{sp}.tsv\", delimiter=\"\\t\")[\"premise\"].iloc[2]"
   ]
  },
  {
   "cell_type": "code",
   "execution_count": 8,
   "metadata": {},
   "outputs": [
    {
     "data": {
      "text/plain": [
       "'There were more survivors than there were crew.'"
      ]
     },
     "execution_count": 8,
     "metadata": {},
     "output_type": "execute_result"
    }
   ],
   "source": [
    "pd.read_csv(f\"../data/infotabs/drr_enc/{sp}.tsv\", delimiter=\"\\t\")[\"hypothesis\"].iloc[2]"
   ]
  },
  {
   "cell_type": "code",
   "execution_count": 10,
   "metadata": {},
   "outputs": [
    {
     "data": {
      "text/plain": [
       "2"
      ]
     },
     "execution_count": 10,
     "metadata": {},
     "output_type": "execute_result"
    }
   ],
   "source": [
    "pd.read_csv(f\"../data/infotabs/drr_enc/{sp}.tsv\", delimiter=\"\\t\")[\"label\"].iloc[2]"
   ]
  },
  {
   "cell_type": "code",
   "execution_count": null,
   "metadata": {},
   "outputs": [],
   "source": []
  }
 ],
 "metadata": {
  "interpreter": {
   "hash": "49a07a63b2f2b82dc04b3078a0545cde6b6576b5e3e4cf99207852de7c93fac7"
  },
  "kernelspec": {
   "display_name": "Python 3.6.10 64-bit ('mlwork': conda)",
   "language": "python",
   "name": "python3"
  },
  "language_info": {
   "codemirror_mode": {
    "name": "ipython",
    "version": 3
   },
   "file_extension": ".py",
   "mimetype": "text/x-python",
   "name": "python",
   "nbconvert_exporter": "python",
   "pygments_lexer": "ipython3",
   "version": "3.6.10"
  },
  "orig_nbformat": 4
 },
 "nbformat": 4,
 "nbformat_minor": 2
}

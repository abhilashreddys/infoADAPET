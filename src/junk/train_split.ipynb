{
 "cells": [
  {
   "cell_type": "code",
   "execution_count": 1,
   "metadata": {},
   "outputs": [],
   "source": [
    "import pandas as pd"
   ]
  },
  {
   "cell_type": "code",
   "execution_count": 2,
   "metadata": {},
   "outputs": [],
   "source": [
    "df = pd.read_csv(\"../data/infotabs/drr/train.tsv\",delimiter=\"\\t\")"
   ]
  },
  {
   "cell_type": "code",
   "execution_count": 3,
   "metadata": {},
   "outputs": [
    {
     "data": {
      "text/plain": [
       "1    5538\n",
       "0    5505\n",
       "2    5495\n",
       "Name: label, dtype: int64"
      ]
     },
     "execution_count": 3,
     "metadata": {},
     "output_type": "execute_result"
    }
   ],
   "source": [
    "df['label'].value_counts()"
   ]
  },
  {
   "cell_type": "code",
   "execution_count": 8,
   "metadata": {},
   "outputs": [],
   "source": [
    "df_1200 = pd.concat([df[df[\"label\"]==0].sample(n=400,random_state=42), df[df[\"label\"]==1].sample(n=400,random_state=42), df[df[\"label\"]==2].sample(n=400,random_state=42)])\n",
    "df_1200 = df_1200.sample(frac=1)"
   ]
  },
  {
   "cell_type": "code",
   "execution_count": 9,
   "metadata": {},
   "outputs": [
    {
     "data": {
      "text/plain": [
       "2    400\n",
       "1    400\n",
       "0    400\n",
       "Name: label, dtype: int64"
      ]
     },
     "execution_count": 9,
     "metadata": {},
     "output_type": "execute_result"
    }
   ],
   "source": [
    "df_1200['label'].value_counts()"
   ]
  },
  {
   "cell_type": "code",
   "execution_count": 10,
   "metadata": {},
   "outputs": [],
   "source": [
    "df_1200.to_csv(\"../data/infotabs/drr/train_1200.tsv\",sep=\"\\t\",index=False)"
   ]
  },
  {
   "cell_type": "code",
   "execution_count": 8,
   "metadata": {},
   "outputs": [],
   "source": [
    "df_50 = pd.concat([df[df[\"label\"]==0].sample(frac=0.5,random_state=42), df[df[\"label\"]==1].sample(frac=0.5,random_state=42), df[df[\"label\"]==2].sample(frac=0.5,random_state=42)])"
   ]
  },
  {
   "cell_type": "code",
   "execution_count": 9,
   "metadata": {},
   "outputs": [
    {
     "data": {
      "text/plain": [
       "1    2769\n",
       "0    2752\n",
       "2    2748\n",
       "Name: label, dtype: int64"
      ]
     },
     "execution_count": 9,
     "metadata": {},
     "output_type": "execute_result"
    }
   ],
   "source": [
    "df_50['label'].value_counts()"
   ]
  },
  {
   "cell_type": "code",
   "execution_count": 11,
   "metadata": {},
   "outputs": [
    {
     "data": {
      "text/plain": [
       "1    2215\n",
       "0    2202\n",
       "2    2198\n",
       "Name: label, dtype: int64"
      ]
     },
     "execution_count": 11,
     "metadata": {},
     "output_type": "execute_result"
    }
   ],
   "source": [
    "df_40 = pd.concat([df_50[df_50[\"label\"]==0].sample(frac=0.8,random_state=42), df_50[df_50[\"label\"]==1].sample(frac=0.8,random_state=42), df_50[df_50[\"label\"]==2].sample(frac=0.8,random_state=42)])\n",
    "df_40['label'].value_counts()"
   ]
  },
  {
   "cell_type": "code",
   "execution_count": 13,
   "metadata": {},
   "outputs": [
    {
     "data": {
      "text/plain": [
       "1    1661\n",
       "0    1652\n",
       "2    1648\n",
       "Name: label, dtype: int64"
      ]
     },
     "execution_count": 13,
     "metadata": {},
     "output_type": "execute_result"
    }
   ],
   "source": [
    "df_30 = pd.concat([df_40[df_40[\"label\"]==0].sample(frac=0.75,random_state=42), df_40[df_40[\"label\"]==1].sample(frac=0.75,random_state=42), df_40[df_40[\"label\"]==2].sample(frac=0.75,random_state=42)])\n",
    "df_30['label'].value_counts()"
   ]
  },
  {
   "cell_type": "code",
   "execution_count": 14,
   "metadata": {},
   "outputs": [
    {
     "data": {
      "text/plain": [
       "1    1107\n",
       "0    1101\n",
       "2    1099\n",
       "Name: label, dtype: int64"
      ]
     },
     "execution_count": 14,
     "metadata": {},
     "output_type": "execute_result"
    }
   ],
   "source": [
    "df_20 = pd.concat([df_30[df_30[\"label\"]==0].sample(frac=2/3,random_state=42), df_30[df_30[\"label\"]==1].sample(frac=2/3,random_state=42), df_30[df_30[\"label\"]==2].sample(frac=2/3,random_state=42)])\n",
    "df_20['label'].value_counts()"
   ]
  },
  {
   "cell_type": "code",
   "execution_count": 15,
   "metadata": {},
   "outputs": [
    {
     "data": {
      "text/plain": [
       "1    554\n",
       "2    550\n",
       "0    550\n",
       "Name: label, dtype: int64"
      ]
     },
     "execution_count": 15,
     "metadata": {},
     "output_type": "execute_result"
    }
   ],
   "source": [
    "df_10 = pd.concat([df_20[df_20[\"label\"]==0].sample(frac=0.5,random_state=42), df_20[df_20[\"label\"]==1].sample(frac=0.5,random_state=42), df_20[df_20[\"label\"]==2].sample(frac=0.5,random_state=42)])\n",
    "df_10['label'].value_counts()"
   ]
  },
  {
   "cell_type": "code",
   "execution_count": 18,
   "metadata": {},
   "outputs": [],
   "source": [
    "df_50.sample(frac=1,random_state=42).to_csv(\"../data/infotabs/drr/train_50p.tsv\",sep=\"\\t\",index=False)"
   ]
  },
  {
   "cell_type": "code",
   "execution_count": 21,
   "metadata": {},
   "outputs": [],
   "source": [
    "df_40.sample(frac=1,random_state=42).to_csv(\"../data/infotabs/drr/train_40p.tsv\",sep=\"\\t\",index=False)\n",
    "df_30.sample(frac=1,random_state=42).to_csv(\"../data/infotabs/drr/train_30p.tsv\",sep=\"\\t\",index=False)\n",
    "df_20.sample(frac=1,random_state=42).to_csv(\"../data/infotabs/drr/train_20p.tsv\",sep=\"\\t\",index=False)\n",
    "df_10.sample(frac=1,random_state=42).to_csv(\"../data/infotabs/drr/train_10p.tsv\",sep=\"\\t\",index=False)"
   ]
  },
  {
   "cell_type": "code",
   "execution_count": 1,
   "metadata": {},
   "outputs": [],
   "source": [
    "from transformers import RobertaTokenizer"
   ]
  },
  {
   "cell_type": "code",
   "execution_count": 2,
   "metadata": {},
   "outputs": [
    {
     "name": "stderr",
     "output_type": "stream",
     "text": [
      "Downloading: 100%|██████████| 899k/899k [00:02<00:00, 425kB/s]  \n",
      "Downloading: 100%|██████████| 456k/456k [00:01<00:00, 352kB/s]  \n",
      "Downloading: 100%|██████████| 1.36M/1.36M [00:03<00:00, 388kB/s] \n"
     ]
    }
   ],
   "source": [
    "tokenizer = RobertaTokenizer.from_pretrained(\"roberta-large\")"
   ]
  },
  {
   "cell_type": "code",
   "execution_count": 11,
   "metadata": {},
   "outputs": [
    {
     "data": {
      "text/plain": [
       "['aer', 'opl', 'ane']"
      ]
     },
     "execution_count": 11,
     "metadata": {},
     "output_type": "execute_result"
    }
   ],
   "source": [
    "tokenizer.tokenize(\"aeroplane\")"
   ]
  },
  {
   "cell_type": "code",
   "execution_count": null,
   "metadata": {},
   "outputs": [],
   "source": []
  }
 ],
 "metadata": {
  "interpreter": {
   "hash": "49a07a63b2f2b82dc04b3078a0545cde6b6576b5e3e4cf99207852de7c93fac7"
  },
  "kernelspec": {
   "display_name": "Python 3.6.10 ('mlwork')",
   "language": "python",
   "name": "python3"
  },
  "language_info": {
   "codemirror_mode": {
    "name": "ipython",
    "version": 3
   },
   "file_extension": ".py",
   "mimetype": "text/x-python",
   "name": "python",
   "nbconvert_exporter": "python",
   "pygments_lexer": "ipython3",
   "version": "3.6.10"
  },
  "orig_nbformat": 4
 },
 "nbformat": 4,
 "nbformat_minor": 2
}
